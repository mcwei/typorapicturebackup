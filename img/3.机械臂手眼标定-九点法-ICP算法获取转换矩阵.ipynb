{
 "cells": [
  {
   "cell_type": "markdown",
   "id": "elect-pattern",
   "metadata": {},
   "source": [
    "## 导入依赖"
   ]
  },
  {
   "cell_type": "code",
   "execution_count": 15,
   "id": "inappropriate-analysis",
   "metadata": {},
   "outputs": [],
   "source": [
    "import math\n",
    "import numpy as np\n",
    "import yaml\n",
    "\n",
    "import sys\n",
    "sys.path.append('../arm_5dof')\n",
    "sys.path.append('../cv_color_block')\n",
    "\n",
    "from cv_worksapce import CvWorkspace"
   ]
  },
  {
   "cell_type": "markdown",
   "id": "optional-status",
   "metadata": {},
   "source": [
    "## 载入示教数据"
   ]
  },
  {
   "cell_type": "code",
   "execution_count": 16,
   "id": "charged-synthetic",
   "metadata": {},
   "outputs": [
    {
     "data": {
      "text/plain": [
       "{0: [-16.352997660133735, -6.607011818101981, 20.02660769873281],\n",
       " 1: [-11.064548762701508, 0.09655848261909236, 24.095147596378297],\n",
       " 2: [-16.231154170076213, 7.534217925167062, 19.771658278616258],\n",
       " 3: [3.0624262238360873, 1.8111053248044202, 25.62745077906547],\n",
       " 4: [11.738097261284942, -0.0, 22.539323606098574],\n",
       " 5: [4.366432934288944, -2.6967511016051002, 25.176701374546155],\n",
       " 6: [10.598491613600698, 10.709998794700551, 20.053839200332657],\n",
       " 7: [18.032233496897817, 0.09441705329556965, 15.850156852473424],\n",
       " 8: [6.920117435700747, -7.191021435962427, 23.19209821775296]}"
      ]
     },
     "execution_count": 16,
     "metadata": {},
     "output_type": "execute_result"
    }
   ],
   "source": [
    "ws_9p_at_arm = None\n",
    "with open(\"config/ws_9p_at_arm.yaml\", \"r\") as f:\n",
    "    ws_9p_at_arm = yaml.load(f,  Loader=yaml.FullLoader)\n",
    "\n",
    "ws_9p_at_arm"
   ]
  },
  {
   "cell_type": "markdown",
   "id": "relevant-denial",
   "metadata": {},
   "source": [
    "## 计算工作台9点在工作台坐标系下的坐标"
   ]
  },
  {
   "cell_type": "code",
   "execution_count": 17,
   "id": "lucky-engineering",
   "metadata": {},
   "outputs": [],
   "source": [
    "workspace = CvWorkspace(yaml_path='../cv_color_block/config/workspace.yaml')"
   ]
  },
  {
   "cell_type": "code",
   "execution_count": 18,
   "id": "ordinary-microphone",
   "metadata": {},
   "outputs": [
    {
     "data": {
      "text/plain": [
       "{0: [0.063, 0.095, 0],\n",
       " 1: [0.063, 0, 0],\n",
       " 2: [0.063, -0.095, 0],\n",
       " 3: [0, 0.095, 0],\n",
       " 4: [0, 0, 0],\n",
       " 5: [0, -0.095, 0],\n",
       " 6: [-0.063, 0.095, 0],\n",
       " 7: [-0.063, 0, 0],\n",
       " 8: [-0.063, -0.095, 0]}"
      ]
     },
     "execution_count": 18,
     "metadata": {},
     "output_type": "execute_result"
    }
   ],
   "source": [
    "# 注: 下面的计算单位都是cm\n",
    "ws_w =  (workspace.ws_pp_tf['ws_img_width'] /  workspace.ws_pp_tf['ws_img_scale_factor'])\n",
    "ws_h =  (workspace.ws_pp_tf['ws_img_height'] /  workspace.ws_pp_tf['ws_img_scale_factor'])\n",
    "\n",
    "ws_9p_at_ws = {}\n",
    "ws_9p_at_ws[0] = [ws_h/2, ws_w/2, 0]\n",
    "ws_9p_at_ws[1] = [ws_h/2, 0, 0]\n",
    "ws_9p_at_ws[2] = [ws_h/2, -ws_w/2, 0]\n",
    "ws_9p_at_ws[3] = [0, ws_w/2, 0]\n",
    "ws_9p_at_ws[4] = [0, 0, 0]\n",
    "ws_9p_at_ws[5] = [0, -ws_w/2, 0]\n",
    "ws_9p_at_ws[6] = [-ws_h/2, ws_w/2, 0]\n",
    "ws_9p_at_ws[7] = [-ws_h/2, 0, 0]\n",
    "ws_9p_at_ws[8] = [-ws_h/2, -ws_w/2, 0]\n",
    "\n",
    "ws_9p_at_ws"
   ]
  },
  {
   "cell_type": "markdown",
   "id": "romance-accommodation",
   "metadata": {},
   "source": [
    "## 将点集转换为ndarray格式"
   ]
  },
  {
   "cell_type": "code",
   "execution_count": 19,
   "id": "intelligent-flood",
   "metadata": {},
   "outputs": [],
   "source": [
    "ws_9p_at_arm_array = []\n",
    "ws_9p_at_ws_array = []\n",
    "for i in range(9):\n",
    "    ws_9p_at_arm_array.append(ws_9p_at_arm[i])\n",
    "    ws_9p_at_ws_array.append(ws_9p_at_ws[i])\n",
    "ws_9p_at_arm_array = np.float32(ws_9p_at_arm_array)\n",
    "ws_9p_at_ws_array = np.float32(ws_9p_at_ws_array)"
   ]
  },
  {
   "cell_type": "markdown",
   "id": "competitive-cutting",
   "metadata": {},
   "source": [
    "## ICP算法-得到变换矩阵"
   ]
  },
  {
   "cell_type": "code",
   "execution_count": 20,
   "id": "patent-childhood",
   "metadata": {},
   "outputs": [
    {
     "name": "stdout",
     "output_type": "stream",
     "text": [
      "ws_9p_at_arm_mean: [ 1.2299005   0.41683477 21.814775  ]\n",
      "ws_9p_at_ws_mean: [1.6556846e-09 0.0000000e+00 0.0000000e+00]\n"
     ]
    }
   ],
   "source": [
    "# 分别计算两组点集的质心\n",
    "ws_9p_at_arm_mean = np.mean(ws_9p_at_arm_array, axis=0)\n",
    "ws_9p_at_ws_mean = np.mean(ws_9p_at_ws_array, axis=0)\n",
    "print(\"ws_9p_at_arm_mean: {}\".format(ws_9p_at_arm_mean))\n",
    "print(\"ws_9p_at_ws_mean: {}\".format(ws_9p_at_ws_mean))"
   ]
  },
  {
   "cell_type": "code",
   "execution_count": 21,
   "id": "editorial-professor",
   "metadata": {},
   "outputs": [],
   "source": [
    "# 点集去除质心\n",
    "ws_9p_at_arm_center = ws_9p_at_arm_array - ws_9p_at_arm_mean\n",
    "ws_9p_at_ws_center = ws_9p_at_ws_array - ws_9p_at_ws_mean"
   ]
  },
  {
   "cell_type": "code",
   "execution_count": 22,
   "id": "numeric-interpretation",
   "metadata": {},
   "outputs": [],
   "source": [
    "# 构造W矩阵\n",
    "W = np.zeros((3, 3), dtype=\"float32\")\n",
    "for i in range(9):\n",
    "    v1 = ws_9p_at_arm_center[i].reshape(-1, 1)\n",
    "    v2 = ws_9p_at_ws_center[i].reshape(1, -1)\n",
    "    W += v1.dot(v2)"
   ]
  },
  {
   "cell_type": "code",
   "execution_count": 23,
   "id": "fitted-elite",
   "metadata": {},
   "outputs": [],
   "source": [
    "# SVD分解\n",
    "U,Sigma,Vt = np.linalg.svd(W)"
   ]
  },
  {
   "cell_type": "code",
   "execution_count": 24,
   "id": "running-labor",
   "metadata": {},
   "outputs": [
    {
     "data": {
      "text/plain": [
       "array([[-0.9987682 , -0.00419024,  0.04944267],\n",
       "       [ 0.00930105,  0.96295655,  0.26949608],\n",
       "       [ 0.0487404 , -0.269624  ,  0.9617314 ]], dtype=float32)"
      ]
     },
     "execution_count": 24,
     "metadata": {},
     "output_type": "execute_result"
    }
   ],
   "source": [
    "# 求解旋转矩阵\n",
    "R = U.dot(Vt)\n",
    "R"
   ]
  },
  {
   "cell_type": "code",
   "execution_count": 25,
   "id": "understanding-brunswick",
   "metadata": {},
   "outputs": [
    {
     "data": {
      "text/plain": [
       "array([[-17.582897  ,  -7.0238466 ,  -1.788168  ],\n",
       "       [-12.294449  ,  -0.3202763 ,   2.2803726 ],\n",
       "       [-17.461054  ,   7.117383  ,  -2.0431175 ],\n",
       "       [  1.8325258 ,   1.3942707 ,   3.8126755 ],\n",
       "       [ 10.508197  ,  -0.41683477,   0.72454834],\n",
       "       [  3.1365328 ,  -3.113586  ,   3.3619251 ],\n",
       "       [  9.368591  ,  10.293164  ,  -1.7609367 ],\n",
       "       [ 16.802334  ,  -0.32241774,  -5.9646187 ],\n",
       "       [  5.690217  ,  -7.6078563 ,   1.3773232 ]], dtype=float32)"
      ]
     },
     "execution_count": 25,
     "metadata": {},
     "output_type": "execute_result"
    }
   ],
   "source": [
    "ws_9p_at_arm_center"
   ]
  },
  {
   "cell_type": "code",
   "execution_count": 26,
   "id": "charitable-series",
   "metadata": {},
   "outputs": [
    {
     "data": {
      "text/plain": [
       "array([[ 1.2299005 ],\n",
       "       [ 0.41683477],\n",
       "       [21.814775  ]], dtype=float32)"
      ]
     },
     "execution_count": 26,
     "metadata": {},
     "output_type": "execute_result"
    }
   ],
   "source": [
    "# 求解平移向量\n",
    "t = ws_9p_at_arm_mean.reshape(-1,1) - R.dot(ws_9p_at_ws_mean.reshape(-1, 1))\n",
    "t"
   ]
  },
  {
   "cell_type": "code",
   "execution_count": 27,
   "id": "widespread-mileage",
   "metadata": {},
   "outputs": [],
   "source": [
    "# 构造变换矩阵\n",
    "# 工作台坐标系在Arm坐标系下的位姿描述\n",
    "T_arm2ws = np.eye(4)\n",
    "T_arm2ws[:3,:3] = R\n",
    "T_arm2ws[:3, 3] = t.reshape(-1)"
   ]
  },
  {
   "cell_type": "markdown",
   "id": "psychological-cooperative",
   "metadata": {},
   "source": [
    "## 数据保存"
   ]
  },
  {
   "cell_type": "code",
   "execution_count": 28,
   "id": "aerial-machinery",
   "metadata": {},
   "outputs": [],
   "source": [
    "np.savetxt(\"config/T_arm2ws.csv\", T_arm2ws, delimiter=\",\")"
   ]
  },
  {
   "cell_type": "code",
   "execution_count": null,
   "id": "04437b33-c9be-4c4e-9c34-2f604e978682",
   "metadata": {},
   "outputs": [],
   "source": []
  },
  {
   "cell_type": "code",
   "execution_count": null,
   "id": "30ebe082-b9a4-4fcb-b9a2-a608baac10ee",
   "metadata": {},
   "outputs": [],
   "source": []
  }
 ],
 "metadata": {
  "kernelspec": {
   "display_name": "Python 3 (ipykernel)",
   "language": "python",
   "name": "python3"
  },
  "language_info": {
   "codemirror_mode": {
    "name": "ipython",
    "version": 3
   },
   "file_extension": ".py",
   "mimetype": "text/x-python",
   "name": "python",
   "nbconvert_exporter": "python",
   "pygments_lexer": "ipython3",
   "version": "3.9.0"
  }
 },
 "nbformat": 4,
 "nbformat_minor": 5
}
